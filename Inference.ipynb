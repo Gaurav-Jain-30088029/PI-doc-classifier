{
 "cells": [
  {
   "cell_type": "code",
   "execution_count": 10,
   "id": "ad201c5d",
   "metadata": {},
   "outputs": [],
   "source": [
    "import joblib\n",
    "import pandas as pd\n",
    "import requests\n",
    "from PIL import Image\n",
    "import io, time"
   ]
  },
  {
   "cell_type": "markdown",
   "id": "6d6e62d9",
   "metadata": {},
   "source": [
    " Read Image,\n",
    " Get OCR, \n",
    " Get Features,\n",
    " Inference,\n",
    " Output"
   ]
  },
  {
   "cell_type": "code",
   "execution_count": 11,
   "id": "99b4660c",
   "metadata": {},
   "outputs": [],
   "source": [
    "keys = [\"INCOME\",\"TAX\",\"DEPARTMENT\",\"GOVT\",\"INDIA\",\"PERMANENT\",\"ACCOUNT\",\"NUMBER\",\"SIGNATURE\",\"GOVERNMENT\",\"DOB\",\"MALE\",\t\"YEAR\",\t\"BIRTH\",\"UNIQUE\",\"IDENTIFICATION\",\"AUTHORITY\",\"AADHAAR\",\"EXPIRY\",\"ISSUE\",\"SEX\",\"NATIONALITY\",\"GIVEN\",\"SURNAME\",\"<<<\", \"PASSPORT\",\"TYPE\",\"COUNTRY\",\"CODE\"]"
   ]
  },
  {
   "cell_type": "code",
   "execution_count": 12,
   "id": "6cfc3d41",
   "metadata": {},
   "outputs": [],
   "source": [
    "def ocr(img,mime_type='image/jpeg'):\n",
    "    url = \"https://centralindia.api.cognitive.microsoft.com/vision/v3.2/read/analyze\"\n",
    "    subscription_key = 'd85c088ad95a42ff8641d0440486311f'\n",
    "    payload={}\n",
    "    # files=[('image',('tmp.jpg',image_to_byte_array(img),mime_type))]\n",
    "    files=[('image',('tmp.jpg',img,mime_type))]\n",
    "    headers = {'Ocp-Apim-Subscription-Key': subscription_key}\n",
    "    response = requests.request(\"POST\", url, headers=headers, data=payload, files=files, verify=False)\n",
    "    status_code = response.status_code\n",
    "    ocr_out=response.headers\n",
    "    if status_code== 202:\n",
    "        url=ocr_out['Operation-Location']\n",
    "        response = requests.request(\"GET\", url, headers=headers, data=payload, verify=False)\n",
    "        ocr_out=response.json()\n",
    "        while ocr_out[\"status\"]==\"running\":\n",
    "            time.sleep(1)\n",
    "            response = requests.request(\"GET\", url, headers=headers, data=payload, verify=False)\n",
    "            ocr_out=response.json()\n",
    "    return dict(ocr_out)"
   ]
  },
  {
   "cell_type": "code",
   "execution_count": 13,
   "id": "9e716309",
   "metadata": {},
   "outputs": [],
   "source": [
    "def read_img(filename, directory):\n",
    "    pil_im = Image.open(directory + \"//\" + filename)\n",
    "    f = open(\"test/\" + filename + \".json\",\"w\")\n",
    "    ocr_output = str(ocr(image_to_byte_array(pil_im)))\n",
    "    f.write(ocr_output)\n",
    "    f.close()\n",
    "    ls = get_dataset(ocr_output)\n",
    "    return ls"
   ]
  },
  {
   "cell_type": "code",
   "execution_count": 14,
   "id": "3b7be0d5",
   "metadata": {},
   "outputs": [],
   "source": [
    "def image_to_byte_array(image: Image) -> bytes:\n",
    "  # BytesIO is a file-like buffer stored in memory\n",
    "  imgByteArr = io.BytesIO()\n",
    "#   print(\"Image is being saved.\")\n",
    "  # image.save expects a file-like as a argument\n",
    "  image.save(imgByteArr, format=image.format)\n",
    "#   print(\"Image got saved.\")\n",
    "  # Turn the BytesIO object back into a bytes object\n",
    "  imgByteArr = imgByteArr.getvalue()\n",
    "#   print(\"Image converted to array.\")\n",
    "  return imgByteArr"
   ]
  },
  {
   "cell_type": "code",
   "execution_count": 15,
   "id": "4c141299",
   "metadata": {},
   "outputs": [],
   "source": [
    "# def get_dataset(ocr_output):\n",
    "#     ls = []\n",
    "#     for k in keys:\n",
    "#         if k in ocr_output.upper():\n",
    "#             ls.append(1)\n",
    "#         else:\n",
    "#             ls.append(0)\n",
    "    \n",
    "#     return ls\n",
    "\n",
    "def get_dataset(ocr_output):\n",
    "    d ={}\n",
    "    for k in keys:\n",
    "        if k in ocr_output.upper():\n",
    "            d[k] = 1\n",
    "        else:\n",
    "            d[k] = 0\n",
    "    \n",
    "    return d\n",
    "\n"
   ]
  },
  {
   "cell_type": "code",
   "execution_count": 24,
   "id": "1d07ca04",
   "metadata": {},
   "outputs": [
    {
     "name": "stderr",
     "output_type": "stream",
     "text": [
      "/Users/30088029/opt/anaconda3/lib/python3.9/site-packages/urllib3/connectionpool.py:1045: InsecureRequestWarning: Unverified HTTPS request is being made to host 'centralindia.api.cognitive.microsoft.com'. Adding certificate verification is strongly advised. See: https://urllib3.readthedocs.io/en/1.26.x/advanced-usage.html#ssl-warnings\n",
      "  warnings.warn(\n",
      "/Users/30088029/opt/anaconda3/lib/python3.9/site-packages/urllib3/connectionpool.py:1045: InsecureRequestWarning: Unverified HTTPS request is being made to host 'centralindia.api.cognitive.microsoft.com'. Adding certificate verification is strongly advised. See: https://urllib3.readthedocs.io/en/1.26.x/advanced-usage.html#ssl-warnings\n",
      "  warnings.warn(\n",
      "/Users/30088029/opt/anaconda3/lib/python3.9/site-packages/urllib3/connectionpool.py:1045: InsecureRequestWarning: Unverified HTTPS request is being made to host 'centralindia.api.cognitive.microsoft.com'. Adding certificate verification is strongly advised. See: https://urllib3.readthedocs.io/en/1.26.x/advanced-usage.html#ssl-warnings\n",
      "  warnings.warn(\n"
     ]
    },
    {
     "name": "stdout",
     "output_type": "stream",
     "text": [
      "This is PASSPORT.\n",
      "Job completed in 2 sec.\n"
     ]
    }
   ],
   "source": [
    "t = time.time()\n",
    "model = joblib.load('model.pkl')\n",
    "ls = read_img(\"DguCzwnX4AIk7yz.jpeg\",\"test\")\n",
    "z = pandas.DataFrame([ls])\n",
    "z.rename(columns = {'<<<':'MRZ'}, inplace = True)\n",
    "predict = model.predict(z)[0]\n",
    "# print(predict)\n",
    "if predict == 3:\n",
    "    print(\"Unable to Identify the document category.\")\n",
    "elif predict == 0:\n",
    "    print(\"This is PASSPORT.\")\n",
    "elif predict == 1:\n",
    "    print(\"This is AADHAAR.\")\n",
    "else:\n",
    "    print(\"This is PAN CARD.\")\n",
    "print(\"Job completed in \" + str(int(time.time() - t)) + \" sec.\")\n",
    "\n",
    "\n",
    "# print(\"Identified \" + str(sum(ls)) + \"keys.\")\n",
    "# for k, i in zip(keys,ls):\n",
    "#     if i ==1:\n",
    "#         print(k)"
   ]
  },
  {
   "cell_type": "code",
   "execution_count": 48,
   "id": "bfd8868f",
   "metadata": {},
   "outputs": [
    {
     "name": "stderr",
     "output_type": "stream",
     "text": [
      "/Users/30088029/opt/anaconda3/lib/python3.9/site-packages/sklearn/base.py:450: UserWarning: X does not have valid feature names, but DecisionTreeClassifier was fitted with feature names\n",
      "  warnings.warn(\n"
     ]
    },
    {
     "data": {
      "text/plain": [
       "array([[1., 0., 0.]])"
      ]
     },
     "execution_count": 48,
     "metadata": {},
     "output_type": "execute_result"
    }
   ],
   "source": [
    "model.predict_proba([ls])"
   ]
  },
  {
   "cell_type": "code",
   "execution_count": 46,
   "id": "37233994",
   "metadata": {},
   "outputs": [
    {
     "name": "stdout",
     "output_type": "stream",
     "text": [
      "Name: joblib\r\n",
      "Version: 1.2.0\r\n",
      "Summary: Lightweight pipelining with Python functions\r\n",
      "Home-page: https://joblib.readthedocs.io\r\n",
      "Author: Gael Varoquaux\r\n",
      "Author-email: gael.varoquaux@normalesup.org\r\n",
      "License: BSD\r\n",
      "Location: /Users/30088029/opt/anaconda3/lib/python3.9/site-packages\r\n",
      "Requires: \r\n",
      "Required-by: imbalanced-learn, nltk, scikit-learn\r\n"
     ]
    }
   ],
   "source": [
    "!pip show joblib"
   ]
  },
  {
   "cell_type": "code",
   "execution_count": null,
   "id": "eda69095",
   "metadata": {},
   "outputs": [],
   "source": []
  }
 ],
 "metadata": {
  "kernelspec": {
   "display_name": "Python 3 (ipykernel)",
   "language": "python",
   "name": "python3"
  },
  "language_info": {
   "codemirror_mode": {
    "name": "ipython",
    "version": 3
   },
   "file_extension": ".py",
   "mimetype": "text/x-python",
   "name": "python",
   "nbconvert_exporter": "python",
   "pygments_lexer": "ipython3",
   "version": "3.9.13"
  }
 },
 "nbformat": 4,
 "nbformat_minor": 5
}
