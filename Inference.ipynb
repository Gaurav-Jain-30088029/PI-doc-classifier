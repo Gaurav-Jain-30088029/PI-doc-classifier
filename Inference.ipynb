{
 "cells": [
  {
   "cell_type": "code",
   "execution_count": 20,
   "id": "4c34e6f0",
   "metadata": {},
   "outputs": [],
   "source": [
    "import joblib\n",
    "import pandas\n",
    "import requests\n",
    "from PIL import Image\n",
    "import io, time"
   ]
  },
  {
   "cell_type": "markdown",
   "id": "a991d8d9",
   "metadata": {},
   "source": [
    " Read Image,\n",
    " Get OCR, \n",
    " Get Features,\n",
    " Inference,\n",
    " Output"
   ]
  },
  {
   "cell_type": "code",
   "execution_count": 3,
   "id": "1b31ef21",
   "metadata": {},
   "outputs": [],
   "source": [
    "keys = [\"INCOME\",\"TAX\",\"DEPARTMENT\",\"GOVT\",\"INDIA\",\"PERMANENT\",\"ACCOUNT\",\"NUMBER\",\"SIGNATURE\",\"GOVERNMENT\",\"DOB\",\t\"MALE\",\t\"YEAR\",\t\"BIRTH\",\"UNIQUE\",\"IDENTIFICATION\",\"AUTHORITY\",\"AADHAAR\",\"EXPIRY\",\"ISSUE\",\"SEX\",\"NATIONALITY\",\"GIVEN\",\"SURNAME\",\"<<<\", \"PASSPORT\",\"TYPE\",\"COUNTRY\",\"CODE\"]"
   ]
  },
  {
   "cell_type": "code",
   "execution_count": 4,
   "id": "768a87b4",
   "metadata": {},
   "outputs": [],
   "source": [
    "def ocr(img,mime_type='image/jpeg'):\n",
    "    url = \"https://centralindia.api.cognitive.microsoft.com/vision/v3.2/read/analyze\"\n",
    "    subscription_key = 'd85c088ad95a42ff8641d0440486311f'\n",
    "    payload={}\n",
    "    # files=[('image',('tmp.jpg',image_to_byte_array(img),mime_type))]\n",
    "    files=[('image',('tmp.jpg',img,mime_type))]\n",
    "    headers = {'Ocp-Apim-Subscription-Key': subscription_key}\n",
    "    response = requests.request(\"POST\", url, headers=headers, data=payload, files=files, verify=False)\n",
    "    status_code = response.status_code\n",
    "    ocr_out=response.headers\n",
    "    if status_code== 202:\n",
    "        url=ocr_out['Operation-Location']\n",
    "        response = requests.request(\"GET\", url, headers=headers, data=payload, verify=False)\n",
    "        ocr_out=response.json()\n",
    "        while ocr_out[\"status\"]==\"running\":\n",
    "            time.sleep(1)\n",
    "            response = requests.request(\"GET\", url, headers=headers, data=payload, verify=False)\n",
    "            ocr_out=response.json()\n",
    "    return dict(ocr_out)"
   ]
  },
  {
   "cell_type": "code",
   "execution_count": 13,
   "id": "de2083d2",
   "metadata": {},
   "outputs": [],
   "source": [
    "def read_img(filename, directory):\n",
    "    pil_im = Image.open(directory + \"//\" + filename)\n",
    "    f = open(\"test/\" + filename + \".json\",\"w\")\n",
    "    ocr_output = str(ocr(image_to_byte_array(pil_im)))\n",
    "    f.write(ocr_output)\n",
    "    f.close()\n",
    "    ls = get_dataset(ocr_output)\n",
    "    return ls"
   ]
  },
  {
   "cell_type": "code",
   "execution_count": 16,
   "id": "d0b274ea",
   "metadata": {},
   "outputs": [],
   "source": [
    "def image_to_byte_array(image: Image) -> bytes:\n",
    "  # BytesIO is a file-like buffer stored in memory\n",
    "  imgByteArr = io.BytesIO()\n",
    "#   print(\"Image is being saved.\")\n",
    "  # image.save expects a file-like as a argument\n",
    "  image.save(imgByteArr, format=image.format)\n",
    "#   print(\"Image got saved.\")\n",
    "  # Turn the BytesIO object back into a bytes object\n",
    "  imgByteArr = imgByteArr.getvalue()\n",
    "#   print(\"Image converted to array.\")\n",
    "  return imgByteArr"
   ]
  },
  {
   "cell_type": "code",
   "execution_count": 24,
   "id": "18ccf879",
   "metadata": {},
   "outputs": [],
   "source": [
    "def get_dataset(ocr_output):\n",
    "    ls = []\n",
    "    for k in keys:\n",
    "        if k in ocr_output:\n",
    "            ls.append(1)\n",
    "        else:\n",
    "            ls.append(0)\n",
    "    return ls"
   ]
  },
  {
   "cell_type": "code",
   "execution_count": 38,
   "id": "d5451074",
   "metadata": {},
   "outputs": [
    {
     "name": "stderr",
     "output_type": "stream",
     "text": [
      "/Users/30088029/opt/anaconda3/lib/python3.9/site-packages/urllib3/connectionpool.py:1045: InsecureRequestWarning: Unverified HTTPS request is being made to host 'centralindia.api.cognitive.microsoft.com'. Adding certificate verification is strongly advised. See: https://urllib3.readthedocs.io/en/1.26.x/advanced-usage.html#ssl-warnings\n",
      "  warnings.warn(\n",
      "/Users/30088029/opt/anaconda3/lib/python3.9/site-packages/urllib3/connectionpool.py:1045: InsecureRequestWarning: Unverified HTTPS request is being made to host 'centralindia.api.cognitive.microsoft.com'. Adding certificate verification is strongly advised. See: https://urllib3.readthedocs.io/en/1.26.x/advanced-usage.html#ssl-warnings\n",
      "  warnings.warn(\n",
      "/Users/30088029/opt/anaconda3/lib/python3.9/site-packages/urllib3/connectionpool.py:1045: InsecureRequestWarning: Unverified HTTPS request is being made to host 'centralindia.api.cognitive.microsoft.com'. Adding certificate verification is strongly advised. See: https://urllib3.readthedocs.io/en/1.26.x/advanced-usage.html#ssl-warnings\n",
      "  warnings.warn(\n"
     ]
    },
    {
     "name": "stdout",
     "output_type": "stream",
     "text": [
      "Unable to Identify the document category.\n",
      "Job completed in 2 sec.\n"
     ]
    },
    {
     "name": "stderr",
     "output_type": "stream",
     "text": [
      "/Users/30088029/opt/anaconda3/lib/python3.9/site-packages/sklearn/base.py:450: UserWarning: X does not have valid feature names, but DecisionTreeClassifier was fitted with feature names\n",
      "  warnings.warn(\n"
     ]
    }
   ],
   "source": [
    "t = time.time()\n",
    "model = joblib.load('model.pkl')\n",
    "ls = read_img(\"driving-licence-delhi-2.jpeg\",\"test\")\n",
    "predict = model.predict([ls])[0]\n",
    "if sum(ls) < 4:\n",
    "    print(\"Unable to Identify the document category.\")\n",
    "elif predict == 0:\n",
    "    print(\"This is PASSPORT.\")\n",
    "elif predict == 1:\n",
    "    print(\"This is AADHAAR.\")\n",
    "else:\n",
    "    print(\"This is PAN CARD.\")\n",
    "print(\"Job completed in \" + str(int(time.time() - t)) + \" sec.\")"
   ]
  },
  {
   "cell_type": "code",
   "execution_count": 36,
   "id": "84d3b794",
   "metadata": {},
   "outputs": [
    {
     "data": {
      "text/plain": [
       "5"
      ]
     },
     "execution_count": 36,
     "metadata": {},
     "output_type": "execute_result"
    }
   ],
   "source": []
  },
  {
   "cell_type": "code",
   "execution_count": null,
   "id": "c9ac2211",
   "metadata": {},
   "outputs": [],
   "source": []
  }
 ],
 "metadata": {
  "kernelspec": {
   "display_name": "Python 3 (ipykernel)",
   "language": "python",
   "name": "python3"
  },
  "language_info": {
   "codemirror_mode": {
    "name": "ipython",
    "version": 3
   },
   "file_extension": ".py",
   "mimetype": "text/x-python",
   "name": "python",
   "nbconvert_exporter": "python",
   "pygments_lexer": "ipython3",
   "version": "3.9.13"
  }
 },
 "nbformat": 4,
 "nbformat_minor": 5
}
